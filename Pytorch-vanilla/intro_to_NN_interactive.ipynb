{
 "cells": [
  {
   "cell_type": "markdown",
   "metadata": {
    "id": "uh6sB27p8SLh"
   },
   "source": [
    "# Introduction to Neural Networks with PyTorch"
   ]
  },
  {
   "cell_type": "markdown",
   "metadata": {
    "id": "3GtMciTpJhYL"
   },
   "source": [
    "# 1. Imports and configuration"
   ]
  },
  {
   "cell_type": "markdown",
   "metadata": {
    "id": "aza6twCeyunS"
   },
   "source": [
    "## 1.1 Imports"
   ]
  },
  {
   "cell_type": "markdown",
   "metadata": {
    "id": "37L5F9DWVZ1f"
   },
   "source": []
  },
  {
   "cell_type": "code",
   "execution_count": 37,
   "metadata": {
    "id": "hqJXO6IiJWDa"
   },
   "outputs": [
    {
     "name": "stdout",
     "output_type": "stream",
     "text": [
      "1.9.0+cu111\n"
     ]
    }
   ],
   "source": [
    "import torch\n",
    "import torch.nn as nn\n",
    "import torch.nn.functional as F\n",
    "import torch.optim as optim\n",
    "\n",
    "from torch.utils.data import DataLoader\n",
    "from torch.utils.data.dataset import random_split\n",
    "\n",
    "import torchvision\n",
    "import torchvision.transforms as transforms\n",
    "\n",
    "import numpy as np\n",
    "import pandas as pd\n",
    "import matplotlib.pyplot as plt\n",
    "\n",
    "import time\n",
    "\n",
    "print(torch.__version__)"
   ]
  },
  {
   "cell_type": "markdown",
   "metadata": {
    "id": "DgQSXc2Hyx4h"
   },
   "source": [
    "## 1.2 Device"
   ]
  },
  {
   "cell_type": "code",
   "execution_count": 38,
   "metadata": {
    "id": "KZrOYXX_y4SV"
   },
   "outputs": [
    {
     "name": "stdout",
     "output_type": "stream",
     "text": [
      "Device: cuda\n"
     ]
    }
   ],
   "source": [
    "device = 'cuda' if torch.cuda.is_available() else 'cpu'\n",
    "print(f'Device: {device}')"
   ]
  },
  {
   "cell_type": "code",
   "execution_count": 39,
   "metadata": {
    "id": "ZIYB9nYU2lUE"
   },
   "outputs": [
    {
     "data": {
      "text/plain": [
       "<torch._C.Generator at 0x24b37236230>"
      ]
     },
     "execution_count": 39,
     "metadata": {},
     "output_type": "execute_result"
    }
   ],
   "source": [
    "torch.manual_seed(101)"
   ]
  },
  {
   "cell_type": "markdown",
   "metadata": {
    "id": "8U2R8yXNJuBj"
   },
   "source": [
    "# 2. Data"
   ]
  },
  {
   "cell_type": "markdown",
   "metadata": {
    "id": "j1ujTEsrLqev"
   },
   "source": [
    "## 2.1 Transformations"
   ]
  },
  {
   "cell_type": "code",
   "execution_count": 40,
   "metadata": {
    "id": "Farc2mvyLyq6"
   },
   "outputs": [],
   "source": [
    "transform = transforms.Compose([transforms.ToTensor()])"
   ]
  },
  {
   "cell_type": "markdown",
   "metadata": {
    "id": "ANqGxN9_NHCt"
   },
   "source": [
    "## 2.2 Download"
   ]
  },
  {
   "cell_type": "code",
   "execution_count": 41,
   "metadata": {
    "id": "2UJoZQGxJseE"
   },
   "outputs": [],
   "source": [
    "trainset = torchvision.datasets.MNIST(root='./data',\n",
    "                                      train=True,\n",
    "                                      download=True,\n",
    "                                      transform=transform)\n",
    "\n",
    "testset = torchvision.datasets.MNIST(root='./data',\n",
    "                                     train=False,\n",
    "                                     download=True,\n",
    "                                     transform=transform)"
   ]
  },
  {
   "cell_type": "code",
   "execution_count": 42,
   "metadata": {
    "id": "8Gclam-ES9EA"
   },
   "outputs": [
    {
     "name": "stdout",
     "output_type": "stream",
     "text": [
      "Dataset MNIST\n",
      "    Number of datapoints: 60000\n",
      "    Root location: ./data\n",
      "    Split: Train\n",
      "    StandardTransform\n",
      "Transform: Compose(\n",
      "               ToTensor()\n",
      "           )\n",
      "Dataset MNIST\n",
      "    Number of datapoints: 10000\n",
      "    Root location: ./data\n",
      "    Split: Test\n",
      "    StandardTransform\n",
      "Transform: Compose(\n",
      "               ToTensor()\n",
      "           )\n"
     ]
    }
   ],
   "source": [
    "print(trainset)\n",
    "print(testset)"
   ]
  },
  {
   "cell_type": "code",
   "execution_count": 43,
   "metadata": {
    "id": "Qpjz318tTIGM"
   },
   "outputs": [
    {
     "name": "stdout",
     "output_type": "stream",
     "text": [
      "60000\n",
      "<class 'torchvision.datasets.mnist.MNIST'>\n"
     ]
    }
   ],
   "source": [
    "print(len(trainset))\n",
    "print(type(trainset))"
   ]
  },
  {
   "cell_type": "markdown",
   "metadata": {
    "id": "A0XQz4ZySuJa"
   },
   "source": [
    "## 2.3 Generate train, dev and test sets"
   ]
  },
  {
   "cell_type": "code",
   "execution_count": 44,
   "metadata": {
    "id": "mbP6S-NQS14t"
   },
   "outputs": [],
   "source": [
    "TRAINSET_SIZE = 55000\n",
    "DEVSET_SIZE = 5000\n",
    "\n",
    "trainset, devset = random_split(dataset = trainset,\n",
    "                                lengths = [TRAINSET_SIZE, DEVSET_SIZE],\n",
    "                                generator = torch.Generator().manual_seed(42))"
   ]
  },
  {
   "cell_type": "code",
   "execution_count": 45,
   "metadata": {
    "id": "nfaqwBZrUDMS"
   },
   "outputs": [
    {
     "name": "stdout",
     "output_type": "stream",
     "text": [
      "55000\n",
      "5000\n",
      "10000\n"
     ]
    }
   ],
   "source": [
    "print(len(trainset))\n",
    "print(len(devset))\n",
    "print(len(testset))"
   ]
  },
  {
   "cell_type": "markdown",
   "metadata": {
    "id": "QTIxkum2Nl65"
   },
   "source": [
    "## 2.3 Revisar los datos"
   ]
  },
  {
   "cell_type": "code",
   "execution_count": 46,
   "metadata": {
    "id": "bNiSNEtVOrra"
   },
   "outputs": [
    {
     "data": {
      "text/plain": [
       "(tensor([[[0.0000, 0.0000, 0.0000, 0.0000, 0.0000, 0.0000, 0.0000, 0.0000,\n",
       "           0.0000, 0.0000, 0.0000, 0.0000, 0.0000, 0.0000, 0.0000, 0.0000,\n",
       "           0.0000, 0.0000, 0.0000, 0.0000, 0.0000, 0.0000, 0.0000, 0.0000,\n",
       "           0.0000, 0.0000, 0.0000, 0.0000],\n",
       "          [0.0000, 0.0000, 0.0000, 0.0000, 0.0000, 0.0000, 0.0000, 0.0000,\n",
       "           0.0000, 0.0000, 0.0000, 0.0000, 0.0000, 0.0000, 0.0000, 0.0000,\n",
       "           0.0000, 0.0000, 0.0000, 0.0000, 0.0000, 0.0000, 0.0000, 0.0000,\n",
       "           0.0000, 0.0000, 0.0000, 0.0000],\n",
       "          [0.0000, 0.0000, 0.0000, 0.0000, 0.0000, 0.0000, 0.0000, 0.0000,\n",
       "           0.0000, 0.0000, 0.0000, 0.0000, 0.0000, 0.0000, 0.0000, 0.0000,\n",
       "           0.0000, 0.0000, 0.0000, 0.0000, 0.0000, 0.0000, 0.0000, 0.0000,\n",
       "           0.0000, 0.0000, 0.0000, 0.0000],\n",
       "          [0.0000, 0.0000, 0.0000, 0.0000, 0.0000, 0.0000, 0.0000, 0.0000,\n",
       "           0.0000, 0.0000, 0.0000, 0.0000, 0.0000, 0.0000, 0.0000, 0.0000,\n",
       "           0.0000, 0.1098, 0.2627, 0.9490, 0.9961, 1.0000, 0.7725, 0.0000,\n",
       "           0.0000, 0.0000, 0.0000, 0.0000],\n",
       "          [0.0000, 0.0000, 0.0000, 0.0000, 0.0000, 0.0000, 0.0000, 0.0000,\n",
       "           0.0000, 0.0000, 0.0000, 0.0000, 0.0000, 0.0000, 0.0000, 0.0000,\n",
       "           0.4667, 0.7098, 0.9922, 0.9922, 0.9922, 0.9922, 0.7686, 0.0000,\n",
       "           0.0000, 0.0000, 0.0000, 0.0000],\n",
       "          [0.0000, 0.0000, 0.0000, 0.0000, 0.0000, 0.0000, 0.0000, 0.0000,\n",
       "           0.0000, 0.0000, 0.0000, 0.0000, 0.0235, 0.0392, 0.3137, 0.7765,\n",
       "           0.9686, 0.9922, 0.9922, 0.9922, 0.9922, 0.9922, 0.9333, 0.3843,\n",
       "           0.0000, 0.0000, 0.0000, 0.0000],\n",
       "          [0.0000, 0.0000, 0.0000, 0.0000, 0.0000, 0.0000, 0.0000, 0.0000,\n",
       "           0.0000, 0.0000, 0.0000, 0.1020, 0.7098, 0.9922, 0.9922, 0.9922,\n",
       "           0.9922, 0.9922, 0.9922, 0.9922, 0.9922, 0.9922, 0.7686, 0.0000,\n",
       "           0.0000, 0.0000, 0.0000, 0.0000],\n",
       "          [0.0000, 0.0000, 0.0000, 0.0000, 0.0000, 0.0000, 0.0000, 0.0000,\n",
       "           0.0000, 0.0000, 0.4588, 0.7020, 0.9922, 0.9922, 0.9922, 0.9922,\n",
       "           0.9922, 0.9922, 0.9922, 0.9922, 0.9922, 0.9922, 0.3569, 0.0000,\n",
       "           0.0000, 0.0000, 0.0000, 0.0000],\n",
       "          [0.0000, 0.0000, 0.0000, 0.0000, 0.0000, 0.0000, 0.0000, 0.0039,\n",
       "           0.0745, 0.4902, 0.9569, 0.9922, 0.9922, 0.9922, 0.9922, 0.9922,\n",
       "           0.9922, 0.9922, 0.9412, 0.2314, 0.1804, 0.1804, 0.0078, 0.0000,\n",
       "           0.0000, 0.0000, 0.0000, 0.0000],\n",
       "          [0.0000, 0.0000, 0.0000, 0.0000, 0.0000, 0.0000, 0.0000, 0.0392,\n",
       "           0.9922, 0.9922, 0.9922, 0.9922, 0.9922, 0.9922, 0.9922, 0.9922,\n",
       "           0.6902, 0.6588, 0.2196, 0.0000, 0.0000, 0.0000, 0.0000, 0.0000,\n",
       "           0.0000, 0.0000, 0.0000, 0.0000],\n",
       "          [0.0000, 0.0000, 0.0000, 0.0000, 0.0000, 0.0000, 0.0000, 0.0392,\n",
       "           0.9922, 0.9922, 0.9922, 0.9922, 0.9922, 0.9922, 0.7686, 0.4039,\n",
       "           0.0431, 0.0000, 0.0000, 0.0000, 0.0000, 0.0000, 0.0000, 0.0000,\n",
       "           0.0000, 0.0000, 0.0000, 0.0000],\n",
       "          [0.0000, 0.0000, 0.0000, 0.0000, 0.0000, 0.0314, 0.5020, 0.8549,\n",
       "           0.9922, 0.9922, 0.9922, 0.9922, 0.9255, 0.7961, 0.0902, 0.0000,\n",
       "           0.0000, 0.0000, 0.0000, 0.1059, 0.0627, 0.0000, 0.0000, 0.0000,\n",
       "           0.0000, 0.0000, 0.0000, 0.0000],\n",
       "          [0.0000, 0.0000, 0.0000, 0.0000, 0.0000, 0.2627, 0.9922, 0.9922,\n",
       "           0.9922, 0.9922, 0.9922, 0.8667, 0.2510, 0.0431, 0.3725, 0.3725,\n",
       "           0.3725, 0.3725, 0.3725, 0.9490, 0.7137, 0.3725, 0.2902, 0.0000,\n",
       "           0.0000, 0.0000, 0.0000, 0.0000],\n",
       "          [0.0000, 0.0000, 0.0000, 0.0000, 0.0000, 0.2627, 0.9922, 0.9922,\n",
       "           0.9922, 0.9922, 0.9451, 0.2431, 0.3765, 0.6667, 0.9922, 0.9922,\n",
       "           0.9922, 0.9922, 0.9922, 0.9922, 0.9922, 0.9922, 0.9098, 0.3255,\n",
       "           0.0000, 0.0000, 0.0000, 0.0000],\n",
       "          [0.0000, 0.0000, 0.0000, 0.0000, 0.0000, 0.9216, 0.9922, 0.9922,\n",
       "           0.9922, 0.9922, 0.9843, 0.8863, 0.9490, 0.9922, 0.9922, 0.9922,\n",
       "           0.9922, 0.9922, 0.9922, 0.9922, 0.9922, 0.9922, 0.9922, 0.9412,\n",
       "           0.2275, 0.0000, 0.0000, 0.0000],\n",
       "          [0.0000, 0.0000, 0.0000, 0.0000, 0.0000, 0.9961, 0.9922, 0.9922,\n",
       "           0.9922, 0.9922, 0.9922, 0.9922, 0.9922, 0.9922, 0.9922, 0.9922,\n",
       "           0.9922, 0.9922, 0.9922, 0.9922, 0.9922, 0.9922, 0.9922, 0.9922,\n",
       "           0.2549, 0.0000, 0.0000, 0.0000],\n",
       "          [0.0000, 0.0000, 0.0000, 0.0000, 0.0000, 0.9961, 0.9922, 0.9922,\n",
       "           0.9922, 0.9922, 0.9922, 0.9922, 0.9922, 0.9922, 0.9922, 0.9922,\n",
       "           0.9922, 0.9922, 0.9922, 0.9922, 0.9922, 0.9922, 0.9922, 0.9922,\n",
       "           0.2549, 0.0000, 0.0000, 0.0000],\n",
       "          [0.0000, 0.0000, 0.0000, 0.0000, 0.0000, 0.9961, 0.9922, 0.9922,\n",
       "           0.9922, 0.9922, 0.9922, 0.9922, 0.9922, 0.9686, 0.8039, 0.3412,\n",
       "           0.0980, 0.2549, 0.7490, 0.9922, 0.9922, 0.9922, 0.9922, 0.9020,\n",
       "           0.2078, 0.0000, 0.0000, 0.0000],\n",
       "          [0.0000, 0.0000, 0.0000, 0.0000, 0.0000, 0.6667, 0.9922, 0.9922,\n",
       "           0.9922, 0.9922, 0.9922, 0.9922, 0.9922, 0.9294, 0.4471, 0.4471,\n",
       "           0.5255, 0.9922, 0.9922, 0.9922, 0.9922, 0.9922, 0.9922, 0.5098,\n",
       "           0.0000, 0.0000, 0.0000, 0.0000],\n",
       "          [0.0000, 0.0000, 0.0000, 0.0000, 0.0000, 0.2627, 0.9922, 0.9922,\n",
       "           0.9922, 0.9922, 0.9922, 0.9922, 0.9922, 0.9922, 0.9922, 0.9922,\n",
       "           0.9922, 0.9922, 0.9922, 0.9922, 0.9922, 0.9922, 0.8314, 0.1490,\n",
       "           0.0000, 0.0000, 0.0000, 0.0000],\n",
       "          [0.0000, 0.0000, 0.0000, 0.0000, 0.0000, 0.2039, 0.8863, 0.9922,\n",
       "           0.9922, 0.9922, 0.9922, 0.9922, 0.9922, 0.9922, 0.9922, 0.9922,\n",
       "           0.9922, 0.9922, 0.9922, 0.9922, 0.8902, 0.2471, 0.0235, 0.0000,\n",
       "           0.0000, 0.0000, 0.0000, 0.0000],\n",
       "          [0.0000, 0.0000, 0.0000, 0.0000, 0.0000, 0.0000, 0.2706, 0.8863,\n",
       "           0.9922, 0.9922, 0.9922, 0.9922, 0.9922, 0.9922, 0.9922, 0.9922,\n",
       "           0.9922, 0.9922, 0.9922, 0.5412, 0.2824, 0.0000, 0.0000, 0.0000,\n",
       "           0.0000, 0.0000, 0.0000, 0.0000],\n",
       "          [0.0000, 0.0000, 0.0000, 0.0000, 0.0000, 0.0000, 0.0000, 0.2275,\n",
       "           0.9922, 0.9922, 0.9922, 0.9922, 0.9922, 0.9922, 0.9922, 0.9922,\n",
       "           0.8784, 0.2549, 0.2549, 0.0196, 0.0000, 0.0000, 0.0000, 0.0000,\n",
       "           0.0000, 0.0000, 0.0000, 0.0000],\n",
       "          [0.0000, 0.0000, 0.0000, 0.0000, 0.0000, 0.0000, 0.0000, 0.0000,\n",
       "           0.0000, 0.0000, 0.0000, 0.0000, 0.0000, 0.0000, 0.0000, 0.0000,\n",
       "           0.0000, 0.0000, 0.0000, 0.0000, 0.0000, 0.0000, 0.0000, 0.0000,\n",
       "           0.0000, 0.0000, 0.0000, 0.0000],\n",
       "          [0.0000, 0.0000, 0.0000, 0.0000, 0.0000, 0.0000, 0.0000, 0.0000,\n",
       "           0.0000, 0.0000, 0.0000, 0.0000, 0.0000, 0.0000, 0.0000, 0.0000,\n",
       "           0.0000, 0.0000, 0.0000, 0.0000, 0.0000, 0.0000, 0.0000, 0.0000,\n",
       "           0.0000, 0.0000, 0.0000, 0.0000],\n",
       "          [0.0000, 0.0000, 0.0000, 0.0000, 0.0000, 0.0000, 0.0000, 0.0000,\n",
       "           0.0000, 0.0000, 0.0000, 0.0000, 0.0000, 0.0000, 0.0000, 0.0000,\n",
       "           0.0000, 0.0000, 0.0000, 0.0000, 0.0000, 0.0000, 0.0000, 0.0000,\n",
       "           0.0000, 0.0000, 0.0000, 0.0000],\n",
       "          [0.0000, 0.0000, 0.0000, 0.0000, 0.0000, 0.0000, 0.0000, 0.0000,\n",
       "           0.0000, 0.0000, 0.0000, 0.0000, 0.0000, 0.0000, 0.0000, 0.0000,\n",
       "           0.0000, 0.0000, 0.0000, 0.0000, 0.0000, 0.0000, 0.0000, 0.0000,\n",
       "           0.0000, 0.0000, 0.0000, 0.0000],\n",
       "          [0.0000, 0.0000, 0.0000, 0.0000, 0.0000, 0.0000, 0.0000, 0.0000,\n",
       "           0.0000, 0.0000, 0.0000, 0.0000, 0.0000, 0.0000, 0.0000, 0.0000,\n",
       "           0.0000, 0.0000, 0.0000, 0.0000, 0.0000, 0.0000, 0.0000, 0.0000,\n",
       "           0.0000, 0.0000, 0.0000, 0.0000]]]),\n",
       " 6)"
      ]
     },
     "execution_count": 46,
     "metadata": {},
     "output_type": "execute_result"
    }
   ],
   "source": [
    "trainset[0]"
   ]
  },
  {
   "cell_type": "code",
   "execution_count": 47,
   "metadata": {
    "id": "PuC7a6w2PInc"
   },
   "outputs": [
    {
     "name": "stdout",
     "output_type": "stream",
     "text": [
      "<class 'torch.Tensor'>\n",
      "torch.Size([1, 28, 28])\n"
     ]
    }
   ],
   "source": [
    "img, label = trainset[0]\n",
    "print(type(img))\n",
    "print(img.shape)"
   ]
  },
  {
   "cell_type": "code",
   "execution_count": 48,
   "metadata": {
    "id": "AOEoQOEUQfA8"
   },
   "outputs": [
    {
     "name": "stdout",
     "output_type": "stream",
     "text": [
      "<class 'int'>\n",
      "6\n"
     ]
    }
   ],
   "source": [
    "print(type(label))\n",
    "print(label)"
   ]
  },
  {
   "cell_type": "code",
   "execution_count": 49,
   "metadata": {
    "id": "zV3-0xtlPf6S"
   },
   "outputs": [
    {
     "data": {
      "text/plain": [
       "<matplotlib.image.AxesImage at 0x24b7f905460>"
      ]
     },
     "execution_count": 49,
     "metadata": {},
     "output_type": "execute_result"
    },
    {
     "data": {
      "image/png": "[encoded data removed]",
      "text/plain": [
       "<Figure size 432x288 with 1 Axes>"
      ]
     },
     "metadata": {
      "needs_background": "light"
     },
     "output_type": "display_data"
    }
   ],
   "source": [
    "plt.imshow(img.view(28,28), cmap=\"gist_yarg\")"
   ]
  },
  {
   "cell_type": "markdown",
   "metadata": {
    "id": "jwMA6u1jUYRE"
   },
   "source": [
    "## 2.4 Data loaders"
   ]
  },
  {
   "cell_type": "code",
   "execution_count": 50,
   "metadata": {
    "id": "KLtmqYNuL0Ki"
   },
   "outputs": [],
   "source": [
    "BATCH_SIZE = 32\n",
    "\n",
    "train_loader = DataLoader(dataset = trainset,\n",
    "                          batch_size = BATCH_SIZE,\n",
    "                          shuffle = True)\n",
    "\n",
    "dev_loader = DataLoader(dataset = devset,\n",
    "                        batch_size = BATCH_SIZE,\n",
    "                        shuffle = True)\n",
    "\n",
    "test_loader = DataLoader(dataset = testset,\n",
    "                         batch_size = BATCH_SIZE,\n",
    "                         shuffle = False)"
   ]
  },
  {
   "cell_type": "code",
   "execution_count": 51,
   "metadata": {
    "id": "mGk4CEpiZcam"
   },
   "outputs": [
    {
     "data": {
      "text/plain": [
       "1719"
      ]
     },
     "execution_count": 51,
     "metadata": {},
     "output_type": "execute_result"
    }
   ],
   "source": [
    "len(train_loader)"
   ]
  },
  {
   "cell_type": "code",
   "execution_count": 52,
   "metadata": {
    "id": "d4oVs_yLZgyF"
   },
   "outputs": [
    {
     "name": "stdout",
     "output_type": "stream",
     "text": [
      "imgs shape: torch.Size([32, 1, 28, 28])\n",
      "labels shape: torch.Size([32])\n"
     ]
    }
   ],
   "source": [
    "# dataloaders are iterators\n",
    "for images, labels in train_loader:\n",
    "    print('imgs shape:', images.shape) # print first batch shape: ([batch_size, 28, 28])\n",
    "    print('labels shape:', labels.shape)\n",
    "    break"
   ]
  },
  {
   "cell_type": "markdown",
   "metadata": {
    "id": "QPXRjazEwNsx"
   },
   "source": [
    "# 3. Model"
   ]
  },
  {
   "cell_type": "markdown",
   "metadata": {
    "id": "mkWoYwu20RsD"
   },
   "source": [
    "## 3.1 Neural Network\n",
    "\n",
    "Fully-connected feedforward Network"
   ]
  },
  {
   "cell_type": "code",
   "execution_count": 53,
   "metadata": {
    "id": "oY1bIyhZZnnm"
   },
   "outputs": [],
   "source": [
    "class FCNN(nn.Module):\n",
    "    def __init__(self, input_size, output_size, hidden1_size, hidden2_size):\n",
    "        super().__init__()\n",
    "        self.fc1 = nn.Linear(input_size, hidden1_size)\n",
    "        self.fc2 = nn.Linear(hidden1_size, hidden2_size)\n",
    "        self.fc3 = nn.Linear(hidden2_size, output_size)\n",
    "    \n",
    "    def forward(self, x):\n",
    "        #x: [batch_size, num_features]\n",
    "        x = F.relu(self.fc1(x))\n",
    "        x = F.relu(self.fc2(x))\n",
    "        x = F.relu(self.fc3(x))\n",
    "\n",
    "        return x"
   ]
  },
  {
   "cell_type": "code",
   "execution_count": 54,
   "metadata": {
    "id": "bFx_B8sJyLwB"
   },
   "outputs": [
    {
     "name": "stdout",
     "output_type": "stream",
     "text": [
      "FCNN(\n",
      "  (fc1): Linear(in_features=784, out_features=300, bias=True)\n",
      "  (fc2): Linear(in_features=300, out_features=100, bias=True)\n",
      "  (fc3): Linear(in_features=100, out_features=10, bias=True)\n",
      ")\n"
     ]
    }
   ],
   "source": [
    "INPUT_SIZE = 28*28\n",
    "HIDDEN1_SIZE = 300\n",
    "HIDDEN2_SIZE = 100\n",
    "OUTPUT_SIZE = 10\n",
    "\n",
    "model = FCNN(input_size = INPUT_SIZE,\n",
    "             output_size = OUTPUT_SIZE,\n",
    "             hidden1_size = HIDDEN1_SIZE,\n",
    "             hidden2_size = HIDDEN2_SIZE).to(device)\n",
    "\n",
    "print(model)"
   ]
  },
  {
   "cell_type": "markdown",
   "metadata": {
    "id": "Z5v6iKKs0X-q"
   },
   "source": [
    "## 3.2 Parámetros"
   ]
  },
  {
   "cell_type": "code",
   "execution_count": 55,
   "metadata": {
    "id": "Kj9bz55RzFaT"
   },
   "outputs": [
    {
     "data": {
      "text/plain": [
       "Parameter containing:\n",
       "tensor([[-0.0150, -0.0344,  0.0293,  ...,  0.0261,  0.0046,  0.0098],\n",
       "        [-0.0305,  0.0132,  0.0257,  ..., -0.0348, -0.0216,  0.0302],\n",
       "        [ 0.0356, -0.0299,  0.0139,  ...,  0.0218, -0.0042,  0.0137],\n",
       "        ...,\n",
       "        [ 0.0344,  0.0292, -0.0137,  ..., -0.0158, -0.0106,  0.0350],\n",
       "        [-0.0130, -0.0262, -0.0160,  ...,  0.0076, -0.0012,  0.0316],\n",
       "        [ 0.0352,  0.0280,  0.0039,  ...,  0.0121, -0.0170, -0.0214]],\n",
       "       device='cuda:0', requires_grad=True)"
      ]
     },
     "execution_count": 55,
     "metadata": {},
     "output_type": "execute_result"
    }
   ],
   "source": [
    "model.fc1.weight"
   ]
  },
  {
   "cell_type": "code",
   "execution_count": 56,
   "metadata": {
    "id": "h5iH9Rq9z79h"
   },
   "outputs": [
    {
     "data": {
      "text/plain": [
       "torch.Size([300, 784])"
      ]
     },
     "execution_count": 56,
     "metadata": {},
     "output_type": "execute_result"
    }
   ],
   "source": [
    "model.fc1.weight.shape"
   ]
  },
  {
   "cell_type": "code",
   "execution_count": 57,
   "metadata": {
    "id": "tCDFsvca0OMc"
   },
   "outputs": [
    {
     "data": {
      "text/plain": [
       "Parameter containing:\n",
       "tensor([-3.2681e-02,  1.7756e-02,  2.3786e-02,  2.0420e-02, -2.3902e-02,\n",
       "        -2.2928e-02,  2.5041e-03, -1.0990e-02,  2.4946e-02, -1.4421e-02,\n",
       "        -2.3087e-02, -2.7628e-02,  7.7165e-03,  1.3551e-02, -1.3709e-02,\n",
       "        -8.1033e-03, -2.6604e-02, -2.2753e-02,  5.9002e-03, -2.2889e-02,\n",
       "         2.9456e-02, -2.9643e-02, -3.0975e-02,  4.2702e-03,  1.3252e-02,\n",
       "        -2.3315e-02, -2.8355e-02,  3.8944e-03, -3.1808e-02,  6.8646e-03,\n",
       "        -2.0498e-02,  5.6088e-03, -2.6520e-02,  5.4993e-03,  3.0063e-02,\n",
       "         8.1861e-03,  2.2487e-02,  3.4915e-02, -1.2011e-02, -2.3839e-02,\n",
       "         5.7128e-03,  1.1392e-02,  2.5832e-02, -2.7234e-03, -8.7833e-03,\n",
       "        -2.4097e-03, -1.7024e-02, -3.4964e-02, -2.7194e-02,  2.6326e-02,\n",
       "        -3.9560e-04,  3.3553e-02, -1.4231e-02,  8.7385e-03,  5.6345e-03,\n",
       "        -2.6945e-03,  3.5943e-04, -7.5244e-03,  2.6769e-02,  1.8850e-02,\n",
       "        -1.0712e-02,  3.4363e-02, -1.9999e-02, -3.1552e-02, -3.4692e-02,\n",
       "         2.1986e-02, -9.0945e-03, -1.8029e-02,  1.0938e-02,  8.9583e-03,\n",
       "        -2.0938e-02,  1.6644e-02,  1.4027e-02,  2.1675e-02,  9.4463e-03,\n",
       "         1.5771e-02,  2.7690e-02,  1.7468e-02, -1.1610e-02, -7.4834e-03,\n",
       "        -6.2625e-03, -2.0188e-02,  1.3358e-02,  1.0962e-02,  1.9900e-02,\n",
       "         1.8910e-02,  2.9072e-02, -2.7183e-02, -1.1678e-02, -3.1242e-02,\n",
       "         5.8997e-03,  2.2639e-02, -2.0988e-02,  5.1226e-04,  3.2573e-04,\n",
       "         1.8608e-03,  8.9359e-03,  1.4154e-02, -2.2668e-02,  9.7493e-03,\n",
       "         1.3960e-02,  1.5866e-02,  2.2533e-02, -3.2085e-02,  2.4107e-02,\n",
       "         5.1089e-03, -2.8002e-02, -1.4348e-02,  3.1318e-03,  2.2518e-02,\n",
       "         1.2691e-02, -2.2303e-02, -2.1993e-02,  2.4063e-02, -2.9045e-02,\n",
       "         2.3612e-02, -3.1535e-02, -3.0948e-02,  3.2838e-03,  3.0220e-02,\n",
       "         4.2761e-03,  3.2206e-02, -3.4963e-02, -3.1802e-02,  1.7205e-02,\n",
       "        -2.4373e-02,  2.6571e-02,  3.0406e-02, -2.3613e-02,  2.2732e-02,\n",
       "         1.0604e-02,  6.0276e-03,  3.0524e-02,  2.7305e-02, -2.2519e-02,\n",
       "        -2.3220e-02,  2.3760e-02, -7.8109e-03,  2.3352e-02,  1.1264e-02,\n",
       "         3.3684e-02, -2.7776e-02, -2.2576e-02,  3.1891e-02, -2.6297e-02,\n",
       "        -2.7248e-02,  2.9035e-02, -1.9992e-02,  2.7825e-02, -1.6305e-02,\n",
       "         1.4738e-02,  2.8197e-02,  1.1080e-03, -3.5155e-02,  1.8157e-02,\n",
       "        -2.4481e-03,  2.6516e-03, -2.4549e-02,  1.5280e-02,  2.1489e-02,\n",
       "         1.9917e-03, -2.3722e-02,  3.5215e-02,  2.6348e-02,  2.0248e-02,\n",
       "         3.4128e-02, -3.0771e-02,  1.2114e-02,  5.2335e-03, -4.2196e-03,\n",
       "        -1.3059e-02,  8.1115e-03, -1.2355e-02, -2.5465e-02, -1.9905e-02,\n",
       "         1.3431e-02,  1.8052e-02, -1.6101e-02,  3.3107e-02,  9.4885e-03,\n",
       "         1.1824e-03, -3.2106e-02, -1.7972e-02,  1.4333e-02, -8.5556e-03,\n",
       "         1.5068e-02,  9.8784e-03,  1.4420e-02, -3.5564e-02, -1.9552e-02,\n",
       "        -1.0562e-02,  2.2197e-03,  5.5059e-04,  1.7457e-02, -2.5319e-02,\n",
       "         2.3684e-03, -3.2388e-02,  2.8222e-02,  5.2426e-05,  4.5828e-04,\n",
       "         2.4766e-02, -2.0835e-02,  1.3532e-02,  7.8373e-03,  1.3989e-02,\n",
       "         1.3836e-02,  3.4503e-02,  5.4233e-03,  8.5605e-03, -1.2973e-02,\n",
       "        -2.0804e-03, -2.4586e-02, -2.2514e-02,  2.3148e-02,  1.7544e-02,\n",
       "        -6.7833e-03,  1.6830e-02, -1.3591e-02, -2.5982e-02,  1.3073e-03,\n",
       "         3.5602e-02, -1.0503e-02,  2.8624e-02,  1.8068e-02,  2.7583e-02,\n",
       "         1.5773e-02,  2.8383e-02, -2.4999e-02,  6.4240e-03, -3.9079e-04,\n",
       "        -3.4214e-02,  2.2976e-03,  8.9689e-03, -3.4611e-03,  1.3130e-02,\n",
       "         7.1701e-04,  6.0924e-04, -2.5443e-02, -2.6444e-02,  7.0708e-03,\n",
       "         1.8361e-03, -1.3230e-02, -2.9711e-02,  2.1685e-02,  3.7036e-03,\n",
       "         2.6164e-04,  8.4769e-03, -1.5385e-03, -1.7854e-02, -1.1813e-02,\n",
       "        -1.8102e-02, -1.2128e-02,  8.8984e-03,  3.2933e-02, -7.0564e-03,\n",
       "        -1.8711e-02,  3.5347e-02,  4.1891e-03,  2.5954e-02, -2.3633e-02,\n",
       "         2.7692e-02, -4.2016e-03,  1.9961e-02,  1.2469e-02,  3.3114e-02,\n",
       "        -8.9790e-03,  2.1927e-02, -2.3654e-02,  1.3495e-02,  8.2473e-03,\n",
       "         2.4862e-02, -2.9858e-02,  6.0879e-03, -1.1803e-02, -6.0180e-04,\n",
       "         2.2487e-02, -1.1412e-02, -1.4860e-02, -2.2693e-02,  2.6877e-02,\n",
       "        -3.1489e-02, -2.9252e-02,  1.3737e-02, -2.5059e-02,  3.5599e-02,\n",
       "        -1.8441e-02, -2.9071e-02, -6.7167e-03, -1.5827e-02,  1.7627e-02,\n",
       "        -1.7996e-02, -1.8424e-02, -1.1922e-02,  2.5824e-02,  2.9745e-02,\n",
       "         2.1271e-02, -1.1439e-02,  1.7880e-02, -2.6959e-03,  3.1915e-02],\n",
       "       device='cuda:0', requires_grad=True)"
      ]
     },
     "execution_count": 57,
     "metadata": {},
     "output_type": "execute_result"
    }
   ],
   "source": [
    "model.fc1.bias"
   ]
  },
  {
   "cell_type": "code",
   "execution_count": 58,
   "metadata": {
    "id": "yvQiqCLc0P_X"
   },
   "outputs": [
    {
     "data": {
      "text/plain": [
       "torch.Size([300])"
      ]
     },
     "execution_count": 58,
     "metadata": {},
     "output_type": "execute_result"
    }
   ],
   "source": [
    "model.fc1.bias.shape"
   ]
  },
  {
   "cell_type": "code",
   "execution_count": 59,
   "metadata": {
    "id": "fBReA_nL0UWe"
   },
   "outputs": [
    {
     "name": "stdout",
     "output_type": "stream",
     "text": [
      "fc1.weight: \t 235200\n",
      "fc1.bias: \t 300\n",
      "fc2.weight: \t 30000\n",
      "fc2.bias: \t 100\n",
      "fc3.weight: \t 1000\n",
      "fc3.bias: \t 10\n"
     ]
    }
   ],
   "source": [
    "#Número de parámetros\n",
    "for name, param in model.named_parameters():\n",
    "    print(f'{name}: \\t {param.numel()}')"
   ]
  },
  {
   "cell_type": "code",
   "execution_count": 60,
   "metadata": {
    "id": "1axqjffu5luc"
   },
   "outputs": [
    {
     "name": "stdout",
     "output_type": "stream",
     "text": [
      "parámetros entrenables: 266610\n",
      "total de parámetros: 266610\n"
     ]
    }
   ],
   "source": [
    "params = sum(p.numel() for p in model.parameters())\n",
    "params_grad = sum(p.numel() for p in model.parameters() if p.requires_grad)\n",
    "\n",
    "print(f'parámetros entrenables: {params_grad}')\n",
    "print(f'total de parámetros: {params}')"
   ]
  },
  {
   "cell_type": "markdown",
   "metadata": {
    "id": "rWrjFDkG_4wU"
   },
   "source": [
    "# 4. Loss"
   ]
  },
  {
   "cell_type": "code",
   "execution_count": 61,
   "metadata": {
    "id": "3yaMb2us7Dl8"
   },
   "outputs": [],
   "source": [
    "#CrossEntropyLoss combines nn.LogSoftmax() and nn.NLLLoss() in one single class.\n",
    "criterion = nn.CrossEntropyLoss(reduction='mean')"
   ]
  },
  {
   "cell_type": "markdown",
   "metadata": {
    "id": "BJjxIVBfANoj"
   },
   "source": [
    "# 5. Optimizador"
   ]
  },
  {
   "cell_type": "code",
   "execution_count": 62,
   "metadata": {
    "id": "0UjIJr9jAMyS"
   },
   "outputs": [],
   "source": [
    "LEARNING_RATE = 0.001\n",
    "optimizer = optim.Adam(model.parameters(), lr=LEARNING_RATE)"
   ]
  },
  {
   "cell_type": "markdown",
   "metadata": {
    "id": "4sBqmJCZAjmB"
   },
   "source": [
    "# 6. Entrenamiento"
   ]
  },
  {
   "cell_type": "code",
   "execution_count": 63,
   "metadata": {
    "id": "uyKxKL52AaZ7"
   },
   "outputs": [
    {
     "name": "stdout",
     "output_type": "stream",
     "text": [
      "--------------------------------------------------------------------------------\n",
      "Epoch: 001/15 | Time: 14.0270s | Train loss: 0.8988 | Train acc: 0.7383 | Dev loss: 0.8001 | Dev acc: 0.7733\n",
      "--------------------------------------------------------------------------------\n",
      "Epoch: 002/15 | Time: 13.7770s | Train loss: 0.7745 | Train acc: 0.7785 | Dev loss: 0.7566 | Dev acc: 0.7840\n",
      "--------------------------------------------------------------------------------\n",
      "Epoch: 003/15 | Time: 13.6670s | Train loss: 0.7449 | Train acc: 0.7858 | Dev loss: 0.7514 | Dev acc: 0.7844\n",
      "--------------------------------------------------------------------------------\n",
      "Epoch: 004/15 | Time: 13.2090s | Train loss: 0.7301 | Train acc: 0.7894 | Dev loss: 0.7581 | Dev acc: 0.7852\n",
      "--------------------------------------------------------------------------------\n",
      "Epoch: 005/15 | Time: 13.8010s | Train loss: 0.7213 | Train acc: 0.7917 | Dev loss: 0.7495 | Dev acc: 0.7874\n",
      "--------------------------------------------------------------------------------\n",
      "Epoch: 006/15 | Time: 12.1170s | Train loss: 0.7156 | Train acc: 0.7937 | Dev loss: 0.7743 | Dev acc: 0.7789\n",
      "--------------------------------------------------------------------------------\n",
      "Epoch: 007/15 | Time: 11.8360s | Train loss: 0.7097 | Train acc: 0.7945 | Dev loss: 0.7435 | Dev acc: 0.7912\n",
      "--------------------------------------------------------------------------------\n",
      "Epoch: 008/15 | Time: 12.1035s | Train loss: 0.7079 | Train acc: 0.7954 | Dev loss: 0.7557 | Dev acc: 0.7876\n",
      "--------------------------------------------------------------------------------\n",
      "Epoch: 009/15 | Time: 11.6550s | Train loss: 0.7036 | Train acc: 0.7962 | Dev loss: 0.7431 | Dev acc: 0.7900\n",
      "--------------------------------------------------------------------------------\n",
      "Epoch: 010/15 | Time: 11.8372s | Train loss: 0.7037 | Train acc: 0.7964 | Dev loss: 0.7507 | Dev acc: 0.7886\n",
      "--------------------------------------------------------------------------------\n",
      "Epoch: 011/15 | Time: 11.6130s | Train loss: 0.7013 | Train acc: 0.7970 | Dev loss: 0.7470 | Dev acc: 0.7888\n",
      "--------------------------------------------------------------------------------\n",
      "Epoch: 012/15 | Time: 12.5511s | Train loss: 0.6999 | Train acc: 0.7974 | Dev loss: 0.7492 | Dev acc: 0.7886\n",
      "--------------------------------------------------------------------------------\n",
      "Epoch: 013/15 | Time: 11.6937s | Train loss: 0.6985 | Train acc: 0.7976 | Dev loss: 0.7437 | Dev acc: 0.7904\n",
      "--------------------------------------------------------------------------------\n",
      "Epoch: 014/15 | Time: 11.5100s | Train loss: 0.6969 | Train acc: 0.7982 | Dev loss: 0.7626 | Dev acc: 0.7864\n",
      "--------------------------------------------------------------------------------\n",
      "Epoch: 015/15 | Time: 11.5050s | Train loss: 0.7005 | Train acc: 0.7972 | Dev loss: 0.7459 | Dev acc: 0.7928\n"
     ]
    }
   ],
   "source": [
    "NUM_EPOCHS = 15\n",
    "\n",
    "history = {\"train\": {\"loss\": [], \"acc\": []}, \"dev\": {\"loss\": [], \"acc\": []}}\n",
    "\n",
    "for epoch in range(NUM_EPOCHS):\n",
    "    \n",
    "    start_time = time.time()\n",
    "\n",
    "    #Training loop\n",
    "    model.train()\n",
    "    loss_sum = 0\n",
    "    acc_sum = 0\n",
    "\n",
    "    for i, batch in enumerate(train_loader):\n",
    "        img, label = batch\n",
    "        #>>img: #######\n",
    "        #>>label: #######\n",
    "\n",
    "        #Reshape\n",
    "        img = img.view(img.shape[0], -1)\n",
    "        #>>img: #######\n",
    "        \n",
    "        #Enviar al dispositivo\n",
    "        img = img.to(device)\n",
    "        label = label.to(device)\n",
    "\n",
    "        #Forward\n",
    "        logits = model(x = img)\n",
    "        #>>logits: #######\n",
    "        \n",
    "        #Loss\n",
    "        loss = criterion(logits, label)\n",
    "\n",
    "        # Acc\n",
    "        predicted_class = torch.argmax(logits, axis=-1)\n",
    "        acc = torch.eq(predicted_class, label).float().mean()#.item()\n",
    "\n",
    "        #Backprop\n",
    "        optimizer.zero_grad()\n",
    "        loss.backward()\n",
    "\n",
    "        #Update params\n",
    "        optimizer.step()\n",
    "\n",
    "        loss_sum += loss.item()\n",
    "        acc_sum += acc.item()\n",
    "    \n",
    "    epoch_train_loss = loss_sum / len(train_loader)\n",
    "    epoch_train_acc = acc_sum / len(train_loader)\n",
    "\n",
    "\n",
    "    #Evaluation loop\n",
    "    model.eval()\n",
    "    with torch.no_grad():\n",
    "        loss_sum = 0\n",
    "        acc_sum = 0\n",
    "\n",
    "        for i, batch in enumerate(dev_loader):\n",
    "            img, label = batch\n",
    "            #>>img: [batch_size, 1, 28, 28]\n",
    "            #>>label: [batch_size]\n",
    "\n",
    "            #Reshape\n",
    "            img = img.view(img.shape[0], -1)\n",
    "            #>>img: [batch_size, 28x28]\n",
    "            \n",
    "            #Enviar al dispositivo\n",
    "            img = img.to(device)\n",
    "            label = label.to(device)\n",
    "\n",
    "            #Forward\n",
    "            logits = model(x = img)\n",
    "            #>>logits: [batch_size, num_classes]\n",
    "            \n",
    "            #Loss\n",
    "            loss = criterion(logits, label)\n",
    "\n",
    "            # Acc\n",
    "            predicted_class = torch.argmax(logits, axis=-1)\n",
    "            acc = torch.eq(predicted_class, label).float().mean()#.item()\n",
    "\n",
    "            loss_sum += loss.item()\n",
    "            acc_sum += acc.item()\n",
    "        \n",
    "        epoch_dev_loss = loss_sum / len(dev_loader)\n",
    "        epoch_dev_acc = acc_sum / len(dev_loader)\n",
    "    \n",
    "\n",
    "    history[\"train\"][\"loss\"].append(epoch_train_loss)\n",
    "    history[\"train\"][\"acc\"].append(epoch_train_acc)\n",
    "    history[\"dev\"][\"loss\"].append(epoch_dev_loss)\n",
    "    history[\"dev\"][\"acc\"].append(epoch_dev_acc)\n",
    "\n",
    "    elapsed_time = time.time() - start_time\n",
    "\n",
    "    print('-' * 80)\n",
    "    print(f'Epoch: {epoch+1:03}/{NUM_EPOCHS} | Time: {elapsed_time:.4f}s | Train loss: {epoch_train_loss:.4f} | Train acc: {epoch_train_acc:.4f} | Dev loss: {epoch_dev_loss:.4f} | Dev acc: {epoch_dev_acc:.4f}')\n"
   ]
  },
  {
   "cell_type": "markdown",
   "metadata": {
    "id": "7SuK2nmX0g5_"
   },
   "source": [
    "# 7. Curvas de aprendizaje"
   ]
  },
  {
   "cell_type": "code",
   "execution_count": 64,
   "metadata": {
    "id": "0ThUKOXmT0Xt"
   },
   "outputs": [
    {
     "data": {
      "image/png": "[encoded data removed]",
      "text/plain": [
       "<Figure size 1080x576 with 1 Axes>"
      ]
     },
     "metadata": {
      "needs_background": "light"
     },
     "output_type": "display_data"
    },
    {
     "name": "stdout",
     "output_type": "stream",
     "text": [
      "\n",
      "min_dev_loss: 0.7431127763098213 , epoch: 9\n"
     ]
    }
   ],
   "source": [
    "plt.figure(figsize=(15,8))\n",
    "x = np.linspace(1, len(history[\"train\"][\"loss\"]),num=len(history[\"train\"][\"loss\"]))\n",
    "plt.plot(x, history[\"train\"][\"loss\"], label='Train loss')\n",
    "plt.plot(x, history[\"dev\"][\"loss\"], label='Dev loss')\n",
    "plt.plot(x, history[\"train\"][\"acc\"], label='Train acc')\n",
    "plt.plot(x, history[\"dev\"][\"acc\"], label='Dev acc')\n",
    "plt.ylabel('Value')\n",
    "plt.xlabel('Epoch')\n",
    "plt.title('Learning curves')\n",
    "plt.grid(b=True)\n",
    "plt.legend()\n",
    "plt.show()\n",
    "\n",
    "#Best dev loss\n",
    "min_dev_loss = min(history[\"dev\"][\"loss\"])\n",
    "epoch = np.argmin(history[\"dev\"][\"loss\"])+1\n",
    "print(f'\\nmin_dev_loss: {min_dev_loss} , epoch: {epoch}')"
   ]
  },
  {
   "cell_type": "markdown",
   "metadata": {
    "id": "lsQOeFpqZuv_"
   },
   "source": [
    "# 8. Test"
   ]
  },
  {
   "cell_type": "code",
   "execution_count": 65,
   "metadata": {
    "id": "00FeAV1eWPgW"
   },
   "outputs": [
    {
     "name": "stdout",
     "output_type": "stream",
     "text": [
      "Time: 1.2850s | Test loss: 0.7566 | Test acc: 0.7909\n"
     ]
    }
   ],
   "source": [
    "#Testing loop\n",
    "start_time = time.time()\n",
    "model.eval()\n",
    "with torch.no_grad():\n",
    "    loss_sum = 0\n",
    "    acc_sum = 0\n",
    "\n",
    "    for i, batch in enumerate(test_loader):\n",
    "        img, label = batch\n",
    "        #>>img: [batch_size, 1, 28, 28]\n",
    "        #>>label: [batch_size]\n",
    "\n",
    "        #Reshape\n",
    "        img = img.view(img.shape[0], -1)\n",
    "        #>>img: [batch_size, 28x28]\n",
    "        \n",
    "        #Enviar al dispositivo\n",
    "        img = img.to(device)\n",
    "        label = label.to(device)\n",
    "\n",
    "        #Forward\n",
    "        logits = model(x = img)\n",
    "        #>>logits: [batch_size, num_classes]\n",
    "        \n",
    "        #Loss\n",
    "        loss = criterion(logits, label)\n",
    "\n",
    "        # Acc\n",
    "        predicted_class = torch.argmax(logits, axis=-1)\n",
    "        acc = torch.eq(predicted_class, label).float().mean()#.item()\n",
    "\n",
    "        loss_sum += loss.item()\n",
    "        acc_sum += acc.item()\n",
    "    \n",
    "    epoch_test_loss = loss_sum / len(test_loader)\n",
    "    epoch_test_acc = acc_sum / len(test_loader)\n",
    "\n",
    "elapsed_time = time.time() - start_time\n",
    "\n",
    "print(f'Time: {elapsed_time:.4f}s | Test loss: {epoch_test_loss:.4f} | Test acc: {epoch_test_acc:.4f}')\n",
    "\n"
   ]
  },
  {
   "cell_type": "markdown",
   "metadata": {
    "id": "EEsPq8vVbHZh"
   },
   "source": [
    "# 9. Predicción"
   ]
  },
  {
   "cell_type": "code",
   "execution_count": 66,
   "metadata": {
    "id": "Eyh6k5sKa4bp"
   },
   "outputs": [],
   "source": [
    "img, label = testset[0]"
   ]
  },
  {
   "cell_type": "code",
   "execution_count": 67,
   "metadata": {
    "id": "5ImCoSeux4bP"
   },
   "outputs": [
    {
     "data": {
      "text/plain": [
       "<matplotlib.image.AxesImage at 0x24b2d774130>"
      ]
     },
     "execution_count": 67,
     "metadata": {},
     "output_type": "execute_result"
    },
    {
     "data": {
      "image/png": "[encoded data removed]",
      "text/plain": [
       "<Figure size 432x288 with 1 Axes>"
      ]
     },
     "metadata": {
      "needs_background": "light"
     },
     "output_type": "display_data"
    }
   ],
   "source": [
    "plt.imshow(img.view(28,28), cmap=\"gist_yarg\")"
   ]
  },
  {
   "cell_type": "code",
   "execution_count": 68,
   "metadata": {
    "id": "UjwQsiikyIwA"
   },
   "outputs": [
    {
     "name": "stdout",
     "output_type": "stream",
     "text": [
      "tensor([[ 0.0000,  0.0000,  0.0000,  0.0000,  0.0000,  0.0000,  0.0000, 20.2110,\n",
      "          0.0000,  0.0000]], device='cuda:0')\n"
     ]
    }
   ],
   "source": [
    "#Salida del modelo entrenado\n",
    "with torch.no_grad():\n",
    "    model.eval()\n",
    "    logits = model(img.view(1,-1).to(device))\n",
    "    #>>(batch_size=1, 784)\n",
    "print(logits)"
   ]
  },
  {
   "cell_type": "code",
   "execution_count": 69,
   "metadata": {
    "id": "HdDeIvopy4L0"
   },
   "outputs": [
    {
     "name": "stdout",
     "output_type": "stream",
     "text": [
      "7\n"
     ]
    }
   ],
   "source": [
    "#Predicción\n",
    "pred = logits.argmax().item()\n",
    "print(pred)"
   ]
  },
  {
   "cell_type": "code",
   "execution_count": 70,
   "metadata": {
    "id": "gGjIw4JbzIoU"
   },
   "outputs": [
    {
     "name": "stdout",
     "output_type": "stream",
     "text": [
      "7\n"
     ]
    }
   ],
   "source": [
    "#Etiqueta correcta\n",
    "print(label)"
   ]
  }
 ],
 "metadata": {
  "colab": {
   "authorship_tag": "ABX9TyNK3zuOuaXd3dZb/+kt9Yfo",
   "collapsed_sections": [],
   "name": "intro_to_NN_interactive.ipynb",
   "provenance": []
  },
  "kernelspec": {
   "display_name": "Python 3",
   "language": "python",
   "name": "python3"
  },
  "language_info": {
   "codemirror_mode": {
    "name": "ipython",
    "version": 3
   },
   "file_extension": ".py",
   "mimetype": "text/x-python",
   "name": "python",
   "nbconvert_exporter": "python",
   "pygments_lexer": "ipython3",
   "version": "3.9.6"
  }
 },
 "nbformat": 4,
 "nbformat_minor": 4
}
