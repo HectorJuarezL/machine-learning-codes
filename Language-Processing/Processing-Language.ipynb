{
 "cells": [
  {
   "cell_type": "markdown",
   "metadata": {},
   "source": [
    "# Processing Language"
   ]
  },
  {
   "cell_type": "code",
   "execution_count": 1,
   "metadata": {},
   "outputs": [],
   "source": [
    "import numpy as np\n",
    "\n",
    "texts = [\"My dog gets along with cats\", #crea una lista de strings, cada fila es una oración\n",
    "         \"That cat is vicious\",\n",
    "         \"My dog is happy when it is lunch\"]"
   ]
  },
  {
   "cell_type": "code",
   "execution_count": 2,
   "metadata": {},
   "outputs": [
    {
     "name": "stdout",
     "output_type": "stream",
     "text": [
      "There are 14 unique words\n"
     ]
    }
   ],
   "source": [
    "unique_words = set(word.lower() for phrase in texts for #al usar \"set\" obtiene las palabras únicas de \n",
    "                   word in phrase.split(\" \")) #todo el texto y las guarda en la variable de unique_words\n",
    "print(f\"There are {len(unique_words)} unique words\") #imprime la longitud de unique_words\n",
    "        #que corresponde con el número de palabras únicas"
   ]
  },
  {
   "cell_type": "code",
   "execution_count": 3,
   "metadata": {},
   "outputs": [],
   "source": [
    "from keras.preprocessing.text import Tokenizer #libreria para convertir en tokens las palabras\n",
    "vocabulary_size = len(unique_words) + 1 # Obtiene el número de palabras únicas y le agrega 1 pues\n",
    "        #hay un elemento que no incluye a las palabras\n",
    "tokenizer = Tokenizer(num_words=vocabulary_size) #crea un tokenizador para las 14 palabras + 1 elemento"
   ]
  },
  {
   "cell_type": "code",
   "execution_count": 4,
   "metadata": {},
   "outputs": [
    {
     "name": "stdout",
     "output_type": "stream",
     "text": [
      "{1: 'is', 2: 'my', 3: 'dog', 4: 'gets', 5: 'along', 6: 'with', 7: 'cats', 8: 'that', 9: 'cat', 10: 'vicious', 11: 'happy', 12: 'when', 13: 'it', 14: 'lunch'}\n"
     ]
    }
   ],
   "source": [
    "tokenizer.fit_on_texts(texts) #asigna las palabras con el tokenizador\n",
    "print(tokenizer.index_word) #imprime el tokenizador, el cual es un diccionario con id como llave\n",
    "        #y como value tiene las palabras"
   ]
  },
  {
   "cell_type": "code",
   "execution_count": 5,
   "metadata": {},
   "outputs": [
    {
     "name": "stdout",
     "output_type": "stream",
     "text": [
      "[[0. 0. 1. 1. 1. 1. 1. 1. 0. 0. 0. 0. 0. 0. 0.]\n",
      " [0. 1. 0. 0. 0. 0. 0. 0. 1. 1. 1. 0. 0. 0. 0.]\n",
      " [0. 1. 1. 1. 0. 0. 0. 0. 0. 0. 0. 1. 1. 1. 1.]]\n"
     ]
    }
   ],
   "source": [
    "print(tokenizer.texts_to_matrix(texts)) #obtiene una matriz a partir de las palabras, cada renglon\n",
    "        #representa una oración de texts, el 1 en la columna \"i\" corresponde con el valor del tokenizador, en este ejemplo no\n",
    "        #se toma en cuenta el orden original de las palabras, solo la presencia de estas"
   ]
  },
  {
   "cell_type": "code",
   "execution_count": 6,
   "metadata": {},
   "outputs": [
    {
     "name": "stdout",
     "output_type": "stream",
     "text": [
      "[[0.  0.  0.7 0.7 0.9 0.9 0.9 0.9 0.  0.  0.  0.  0.  0.  0. ]\n",
      " [0.  0.7 0.  0.  0.  0.  0.  0.  0.9 0.9 0.9 0.  0.  0.  0. ]\n",
      " [0.  1.2 0.7 0.7 0.  0.  0.  0.  0.  0.  0.  0.9 0.9 0.9 0.9]]\n"
     ]
    }
   ],
   "source": [
    "print(np.round(tokenizer.texts_to_matrix(texts, mode='tfidf'), 1)) #Term frequency – Inverse document frequency\n",
    "        #es una medida numérica que representa que tan importante es una palabra en un documento"
   ]
  },
  {
   "cell_type": "code",
   "execution_count": 7,
   "metadata": {},
   "outputs": [
    {
     "name": "stdout",
     "output_type": "stream",
     "text": [
      "[[2, 3, 4, 5, 6, 7], [8, 9, 1, 10], [2, 3, 1, 11, 12, 13, 1, 14]]\n"
     ]
    }
   ],
   "source": [
    "print(tokenizer.texts_to_sequences(texts)) #convierte el texto a una lista de arreglos, cada arreglo\n",
    "        #de la lista es una oración, y los arreglos están llenos de los id's de las palabras."
   ]
  },
  {
   "cell_type": "code",
   "execution_count": null,
   "metadata": {},
   "outputs": [],
   "source": []
  }
 ],
 "metadata": {
  "kernelspec": {
   "display_name": "Python 3",
   "language": "python",
   "name": "python3"
  },
  "language_info": {
   "codemirror_mode": {
    "name": "ipython",
    "version": 3
   },
   "file_extension": ".py",
   "mimetype": "text/x-python",
   "name": "python",
   "nbconvert_exporter": "python",
   "pygments_lexer": "ipython3",
   "version": "3.8.6"
  }
 },
 "nbformat": 4,
 "nbformat_minor": 4
}
