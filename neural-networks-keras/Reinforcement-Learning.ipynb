{
 "cells": [
  {
   "cell_type": "markdown",
   "metadata": {},
   "source": [
    "# Playing a Game with Neural Networks"
   ]
  },
  {
   "cell_type": "markdown",
   "metadata": {},
   "source": [
    "## Simulating game environments"
   ]
  },
  {
   "cell_type": "code",
   "execution_count": 1,
   "metadata": {
    "colab": {
     "base_uri": "https://localhost:8080/",
     "height": 255
    },
    "colab_type": "code",
    "id": "Ouy6OwzAkgnp",
    "outputId": "3b0beb9a-1874-4d44-d0d5-6961347e0196"
   },
   "outputs": [
    {
     "name": "stdout",
     "output_type": "stream",
     "text": [
      "Requirement already satisfied: h5py in /home/daniel/.local/lib/python3.8/site-packages (2.10.0)\n",
      "Requirement already satisfied: numpy>=1.7 in /home/daniel/.local/lib/python3.8/site-packages (from h5py) (1.18.5)\n",
      "Requirement already satisfied: six in /usr/lib/python3/dist-packages (from h5py) (1.14.0)\n",
      "Requirement already satisfied: gym in /home/daniel/.local/lib/python3.8/site-packages (0.17.3)\n",
      "Requirement already satisfied: pyglet<=1.5.0,>=1.4.0 in /home/daniel/.local/lib/python3.8/site-packages (from gym) (1.5.0)\n",
      "Requirement already satisfied: scipy in /home/daniel/.local/lib/python3.8/site-packages (from gym) (1.5.3)\n",
      "Requirement already satisfied: cloudpickle<1.7.0,>=1.2.0 in /home/daniel/.local/lib/python3.8/site-packages (from gym) (1.6.0)\n",
      "Requirement already satisfied: numpy>=1.10.4 in /home/daniel/.local/lib/python3.8/site-packages (from gym) (1.18.5)\n",
      "Requirement already satisfied: future in /home/daniel/.local/lib/python3.8/site-packages (from pyglet<=1.5.0,>=1.4.0->gym) (0.18.2)\n"
     ]
    }
   ],
   "source": [
    "!pip3 install h5py # Esta libreria la ocupa keras-lr\n",
    "!pip3 install gym # gym es una herramienta para el desarrollo y comparacion \n",
    "    #de algoritmos de aprendizade por reforzamiento, contiene distintos\n",
    "    #entornos para el entrenamiento de estos algoritmos\n",
    "#!conda install -c menpo ffmpeg\n",
    "# como no uso conda, busqué la alternativa que fue muy simple, menpo y ffmpeg-python\n",
    "!pip3 install ffmpeg-python #libreria para usar codecs de video\n",
    "!pip3 install cython #libreria necesaria para instalar menpo, permite llamar funciones en c \n",
    "        #y usar codigo en cython\n",
    "!pip3 install menpo #se usa como una libreria para el preprocesamiento en muchas tareas\n",
    "        # de vision artificial."
   ]
  },
  {
   "cell_type": "code",
   "execution_count": 2,
   "metadata": {
    "colab": {
     "base_uri": "https://localhost:8080/",
     "height": 34
    },
    "colab_type": "code",
    "id": "Hp6Qi5XakpWF",
    "outputId": "9c34096b-e4b5-4c6a-a387-f00f18973ebd"
   },
   "outputs": [],
   "source": [
    "import numpy as np \n",
    "import gym"
   ]
  },
  {
   "cell_type": "code",
   "execution_count": 3,
   "metadata": {
    "colab": {},
    "colab_type": "code",
    "id": "AUwyhqRgl6Pm"
   },
   "outputs": [
    {
     "data": {
      "text/plain": [
       "(1, 4)"
      ]
     },
     "execution_count": 3,
     "metadata": {},
     "output_type": "execute_result"
    }
   ],
   "source": [
    "env = gym.make('CartPole-v0') #Es el típico problema del péndulo invertido sobre un carro\n",
    "np.random.seed(42), env.seed(42) #establece la semilla para la generacón de numeros\n",
    "        #pseudoaleatorios para numpy y el carro.\n",
    "nb_actions = env.action_space.n #Obtiene el numero de acciones que puede hacer el agente, en este caso\n",
    "        #solo son 2 valores, 0 (mover a la izquierda) y 1 (mover a la derecha). \n",
    "input_shape = (1, env.observation_space.shape[0]) #Obtiene la forma de la entrada, dada por el espacio de\n",
    "        #observación del agente, este es un arreglo de 4 flotantes, 2 de estos dan la posición del carro\n",
    "        #y los otros 2 la posición angular y velocidad de la polea.\n",
    "input_shape"
   ]
  },
  {
   "cell_type": "code",
   "execution_count": 4,
   "metadata": {},
   "outputs": [
    {
     "name": "stdout",
     "output_type": "stream",
     "text": [
      "Episode concluded after 18 timesteps\n"
     ]
    }
   ],
   "source": [
    "observation = env.reset() #reinicia el agente para que esté en su posición inicial\n",
    "for t in range(200): #ciclo for donde el agente realizará algunas acciones\n",
    "    env.render() #renderiza el entorno\n",
    "    act = env.action_space.sample() #obtiene la muestra de la primera accion\n",
    "    obs, rwrd, done, info = env.step(act) #realiza la acción \n",
    "    if done: #este if comprueba si terminó el \"juego\"\n",
    "        print(\"Episode concluded after %i timesteps\" % (t+1)) #cuando termina muestra cuantos ciclos pasaron\n",
    "                #antes de terminar\n",
    "        break\n",
    "env.close() #termina este entorno."
   ]
  },
  {
   "cell_type": "markdown",
   "metadata": {},
   "source": [
    "## Presenting Q-learning"
   ]
  },
  {
   "cell_type": "code",
   "execution_count": 5,
   "metadata": {},
   "outputs": [
    {
     "name": "stdout",
     "output_type": "stream",
     "text": [
      "Requirement already satisfied: keras-rl2 in /home/daniel/.local/lib/python3.8/site-packages (1.0.4)\n",
      "Requirement already satisfied: tensorflow>=2.1.0 in /home/daniel/.local/lib/python3.8/site-packages (from keras-rl2) (2.3.1)\n",
      "Requirement already satisfied: termcolor>=1.1.0 in /home/daniel/.local/lib/python3.8/site-packages (from tensorflow>=2.1.0->keras-rl2) (1.1.0)\n",
      "Requirement already satisfied: google-pasta>=0.1.8 in /home/daniel/.local/lib/python3.8/site-packages (from tensorflow>=2.1.0->keras-rl2) (0.2.0)\n",
      "Requirement already satisfied: numpy<1.19.0,>=1.16.0 in /home/daniel/.local/lib/python3.8/site-packages (from tensorflow>=2.1.0->keras-rl2) (1.18.5)\n",
      "Requirement already satisfied: wrapt>=1.11.1 in /home/daniel/.local/lib/python3.8/site-packages (from tensorflow>=2.1.0->keras-rl2) (1.12.1)\n",
      "Requirement already satisfied: grpcio>=1.8.6 in /home/daniel/.local/lib/python3.8/site-packages (from tensorflow>=2.1.0->keras-rl2) (1.33.2)\n",
      "Requirement already satisfied: gast==0.3.3 in /home/daniel/.local/lib/python3.8/site-packages (from tensorflow>=2.1.0->keras-rl2) (0.3.3)\n",
      "Requirement already satisfied: tensorflow-estimator<2.4.0,>=2.3.0 in /home/daniel/.local/lib/python3.8/site-packages (from tensorflow>=2.1.0->keras-rl2) (2.3.0)\n",
      "Requirement already satisfied: wheel>=0.26 in /usr/lib/python3/dist-packages (from tensorflow>=2.1.0->keras-rl2) (0.34.2)\n",
      "Requirement already satisfied: six>=1.12.0 in /usr/lib/python3/dist-packages (from tensorflow>=2.1.0->keras-rl2) (1.14.0)\n",
      "Requirement already satisfied: tensorboard<3,>=2.3.0 in /home/daniel/.local/lib/python3.8/site-packages (from tensorflow>=2.1.0->keras-rl2) (2.3.0)\n",
      "Requirement already satisfied: astunparse==1.6.3 in /home/daniel/.local/lib/python3.8/site-packages (from tensorflow>=2.1.0->keras-rl2) (1.6.3)\n",
      "Requirement already satisfied: h5py<2.11.0,>=2.10.0 in /home/daniel/.local/lib/python3.8/site-packages (from tensorflow>=2.1.0->keras-rl2) (2.10.0)\n",
      "Requirement already satisfied: protobuf>=3.9.2 in /home/daniel/.local/lib/python3.8/site-packages (from tensorflow>=2.1.0->keras-rl2) (3.13.0)\n",
      "Requirement already satisfied: absl-py>=0.7.0 in /home/daniel/.local/lib/python3.8/site-packages (from tensorflow>=2.1.0->keras-rl2) (0.11.0)\n",
      "Requirement already satisfied: opt-einsum>=2.3.2 in /home/daniel/.local/lib/python3.8/site-packages (from tensorflow>=2.1.0->keras-rl2) (3.3.0)\n",
      "Requirement already satisfied: keras-preprocessing<1.2,>=1.1.1 in /home/daniel/.local/lib/python3.8/site-packages (from tensorflow>=2.1.0->keras-rl2) (1.1.2)\n",
      "Requirement already satisfied: markdown>=2.6.8 in /home/daniel/.local/lib/python3.8/site-packages (from tensorboard<3,>=2.3.0->tensorflow>=2.1.0->keras-rl2) (3.3.3)\n",
      "Requirement already satisfied: werkzeug>=0.11.15 in /home/daniel/.local/lib/python3.8/site-packages (from tensorboard<3,>=2.3.0->tensorflow>=2.1.0->keras-rl2) (1.0.1)\n",
      "Requirement already satisfied: tensorboard-plugin-wit>=1.6.0 in /home/daniel/.local/lib/python3.8/site-packages (from tensorboard<3,>=2.3.0->tensorflow>=2.1.0->keras-rl2) (1.7.0)\n",
      "Requirement already satisfied: google-auth<2,>=1.6.3 in /home/daniel/.local/lib/python3.8/site-packages (from tensorboard<3,>=2.3.0->tensorflow>=2.1.0->keras-rl2) (1.23.0)\n",
      "Requirement already satisfied: google-auth-oauthlib<0.5,>=0.4.1 in /home/daniel/.local/lib/python3.8/site-packages (from tensorboard<3,>=2.3.0->tensorflow>=2.1.0->keras-rl2) (0.4.2)\n",
      "Requirement already satisfied: setuptools>=41.0.0 in /usr/lib/python3/dist-packages (from tensorboard<3,>=2.3.0->tensorflow>=2.1.0->keras-rl2) (45.2.0)\n",
      "Requirement already satisfied: requests<3,>=2.21.0 in /usr/lib/python3/dist-packages (from tensorboard<3,>=2.3.0->tensorflow>=2.1.0->keras-rl2) (2.22.0)\n",
      "Requirement already satisfied: rsa<5,>=3.1.4; python_version >= \"3.5\" in /home/daniel/.local/lib/python3.8/site-packages (from google-auth<2,>=1.6.3->tensorboard<3,>=2.3.0->tensorflow>=2.1.0->keras-rl2) (4.6)\n",
      "Requirement already satisfied: pyasn1-modules>=0.2.1 in /home/daniel/.local/lib/python3.8/site-packages (from google-auth<2,>=1.6.3->tensorboard<3,>=2.3.0->tensorflow>=2.1.0->keras-rl2) (0.2.8)\n",
      "Requirement already satisfied: cachetools<5.0,>=2.0.0 in /home/daniel/.local/lib/python3.8/site-packages (from google-auth<2,>=1.6.3->tensorboard<3,>=2.3.0->tensorflow>=2.1.0->keras-rl2) (4.1.1)\n",
      "Requirement already satisfied: requests-oauthlib>=0.7.0 in /home/daniel/.local/lib/python3.8/site-packages (from google-auth-oauthlib<0.5,>=0.4.1->tensorboard<3,>=2.3.0->tensorflow>=2.1.0->keras-rl2) (1.3.0)\n",
      "Requirement already satisfied: pyasn1>=0.1.3 in /home/daniel/.local/lib/python3.8/site-packages (from rsa<5,>=3.1.4; python_version >= \"3.5\"->google-auth<2,>=1.6.3->tensorboard<3,>=2.3.0->tensorflow>=2.1.0->keras-rl2) (0.4.8)\n",
      "Requirement already satisfied: oauthlib>=3.0.0 in /usr/lib/python3/dist-packages (from requests-oauthlib>=0.7.0->google-auth-oauthlib<0.5,>=0.4.1->tensorboard<3,>=2.3.0->tensorflow>=2.1.0->keras-rl2) (3.1.0)\n"
     ]
    }
   ],
   "source": [
    "!pip3 install keras-rl2 #aqui tuve que usar keras-rl2 porque la libreria original la dejaron de actualizar\n",
    "        #y ya no funciona con tensorflow 2.0, como observación, para hacer funcionar esta tuve que deinstalar\n",
    "        #tanto keras-rl como keras, al volver a instalar keras e instalar keras-rl2 ya funcionó bien el código"
   ]
  },
  {
   "cell_type": "code",
   "execution_count": 6,
   "metadata": {},
   "outputs": [],
   "source": [
    " #librerias para la creacion de la red neuronal\n",
    "from keras.models import Sequential\n",
    "from keras.layers import Dense, Activation \n",
    "from keras.layers import Flatten, Dropout \n",
    "from keras.optimizers import Adam\n",
    "#librerias para el agente y el aprendizaje por reforzamiento\n",
    "from rl.agents.dqn import DQNAgent\n",
    "from rl.policy import EpsGreedyQPolicy\n",
    "from rl.memory import SequentialMemory"
   ]
  },
  {
   "cell_type": "code",
   "execution_count": 7,
   "metadata": {
    "colab": {
     "base_uri": "https://localhost:8080/",
     "height": 394
    },
    "colab_type": "code",
    "id": "JDLC7tLsmEif",
    "outputId": "a7d90c14-b6ad-4cf3-aa2c-79a372ba238b"
   },
   "outputs": [
    {
     "name": "stdout",
     "output_type": "stream",
     "text": [
      "Model: \"sequential\"\n",
      "_________________________________________________________________\n",
      "Layer (type)                 Output Shape              Param #   \n",
      "=================================================================\n",
      "flatten (Flatten)            (None, 4)                 0         \n",
      "_________________________________________________________________\n",
      "dense (Dense)                (None, 12)                60        \n",
      "_________________________________________________________________\n",
      "activation (Activation)      (None, 12)                0         \n",
      "_________________________________________________________________\n",
      "dense_1 (Dense)              (None, 2)                 26        \n",
      "_________________________________________________________________\n",
      "activation_1 (Activation)    (None, 2)                 0         \n",
      "=================================================================\n",
      "Total params: 86\n",
      "Trainable params: 86\n",
      "Non-trainable params: 0\n",
      "_________________________________________________________________\n",
      "None\n"
     ]
    }
   ],
   "source": [
    "#creación del modelo\n",
    "model = Sequential() #es un modelo de manera secuencial\n",
    "model.add(Flatten(input_shape=input_shape)) #capa de entrada del tamaño que se obtuvo segun los posibles\n",
    "        #movimientos del agente\n",
    "model.add(Dense(12)) #capa densa con 12 neuronas\n",
    "model.add(Activation('relu')) #función de activación ReLu\n",
    "model.add(Dense(nb_actions)) #otra capa densa con el valor de acciones que puede hacer el agente,\n",
    "        #es decir, da la posible respuesta del agente\n",
    "model.add(Activation('linear')) #capa de activación linear\n",
    "\n",
    "print(model.summary()) #imprime el resumen del modelo"
   ]
  },
  {
   "cell_type": "code",
   "execution_count": 8,
   "metadata": {
    "colab": {
     "base_uri": "https://localhost:8080/",
     "height": 1307
    },
    "colab_type": "code",
    "id": "18vnnQc9mLTq",
    "outputId": "da1378dd-ca9b-4a86-8d2e-130864dacdb6"
   },
   "outputs": [
    {
     "name": "stdout",
     "output_type": "stream",
     "text": [
      "Training for 30000 steps ...\n",
      "Interval 1 (0 steps performed)\n",
      "WARNING:tensorflow:From /home/daniel/.local/lib/python3.8/site-packages/tensorflow/python/keras/engine/training_v1.py:2070: Model.state_updates (from tensorflow.python.keras.engine.training) is deprecated and will be removed in a future version.\n",
      "Instructions for updating:\n",
      "This property should not be used in TensorFlow 2.0, as updates are applied automatically.\n",
      "10000/10000 [==============================] - 45s 5ms/step - reward: 1.0000\n",
      "294 episodes - episode_reward: 33.378 [8.000, 180.000] - loss: 3.040 - mean_q: 17.694\n",
      "\n",
      "Interval 2 (10000 steps performed)\n",
      "10000/10000 [==============================] - 47s 5ms/step - reward: 1.0000\n",
      "58 episodes - episode_reward: 173.103 [25.000, 200.000] - loss: 8.489 - mean_q: 44.859\n",
      "\n",
      "Interval 3 (20000 steps performed)\n",
      "10000/10000 [==============================] - 49s 5ms/step - reward: 1.0000\n",
      "done, took 140.388 seconds\n"
     ]
    }
   ],
   "source": [
    "policy = EpsGreedyQPolicy(eps=0.3) #Politica de avaricia epsilon, este toma una accion aleatoria para\n",
    "        #poder explorar los resultados, y poder escoger la accion que da la mejor recompenza\n",
    "        #con prueba y error.\n",
    "memory = SequentialMemory(limit=50000, #memoria del agente\n",
    "                          window_length=1)\n",
    "\n",
    "dqn = DQNAgent(model=model, #Deep Q Network Agent, esta toma el modelo de la red creado anteriormente\n",
    "               nb_actions=nb_actions,  #las acciones\n",
    "               memory=memory, #la memoria\n",
    "               nb_steps_warmup=50, #Al investigar sobre este parametro, encontré que en las primeras\n",
    "                   #iteraciones del agente este obtendrá errores muy largos, por lo que este parametro\n",
    "                   #ayuda a tener un \"calentamiento\" gradual, lo veo como un tipo de \"ratio de aprendizaje\"\n",
    "               target_model_update=0.01, #es un ratio de actualización del modelo, si es un número mayor a 1\n",
    "                   #indica cada cuantos pasos el modelo se actualiza (hard-update), si es menor a 1, se \n",
    "                   #le llama soft-update el cual lo actualiza en el porcentaje dado, de igual manera\n",
    "                   #le veo similitud al ratio de aprendizaje, la diferencia con el parametro radica en que\n",
    "                   #este modifica la red, y el anterior tiene que ver con los ciclos que realiza el agente\n",
    "                   #antes de modificar la red\n",
    "               policy=policy)#politica de aprendizaje\n",
    "\n",
    "dqn.compile(Adam(lr=0.001)) #compila el modelo y establece el ratio de aprendizaje de este\n",
    "\n",
    "training = dqn.fit(env, nb_steps=30000, #entrena el agente con el modelo, establece 30000 ciclos\n",
    "                   visualize=False, verbose=1) "
   ]
  },
  {
   "cell_type": "code",
   "execution_count": 9,
   "metadata": {
    "colab": {},
    "colab_type": "code",
    "id": "hHWjixFkoXtL"
   },
   "outputs": [
    {
     "name": "stdout",
     "output_type": "stream",
     "text": [
      "Testing for 1 episodes ...\n",
      "Episode 1: reward: 200.000, steps: 200\n"
     ]
    }
   ],
   "source": [
    "env = gym.make('CartPole-v0') #crea un nuevo agente de pendulo invertido sobre el carro\n",
    "mon = gym.wrappers.Monitor(env, #crea un monitor para visualizar el experimento, este crea un video\n",
    "                           \"./gym-results\", #en la carpeta dada como parametro\n",
    "                           force=True)\n",
    "mon.reset() #reinicia el monitor\n",
    "dqn.test(mon, nb_episodes=1, visualize=True) #inicia la prueba con la red neuronal y el monitor\n",
    "mon.close() #cierra el monitor\n",
    "env.close() #cierra el agente"
   ]
  },
  {
   "cell_type": "code",
   "execution_count": 10,
   "metadata": {},
   "outputs": [
    {
     "data": {
      "text/html": [
       "\n",
       "<video width=\"520\" height=\"auto\" alt=\"test\" controls>\n",
       "<source src=\"data:video/mp4;base64,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\"\n",
       " type=\"video/mp4\" />\n",
       "</video>"
      ],
      "text/plain": [
       "<IPython.core.display.HTML object>"
      ]
     },
     "execution_count": 10,
     "metadata": {},
     "output_type": "execute_result"
    }
   ],
   "source": [
    "#El siguiente código sirve para visualizar el video en el notebook.\n",
    "import io\n",
    "import base64\n",
    "from IPython.display import HTML\n",
    "\n",
    "template = './gym-results/openaigym.video.%s.video000001.mp4'\n",
    "video = io.open(template % mon.file_infix, 'r+b').read()\n",
    "encoded = base64.b64encode(video)\n",
    "HTML(data='''\n",
    "<video width=\"520\" height=\"auto\" alt=\"test\" controls>\n",
    "<source src=\"data:video/mp4;base64,{0}\"\n",
    " type=\"video/mp4\" />\n",
    "</video>'''.format(encoded.decode('ascii')))"
   ]
  },
  {
   "cell_type": "code",
   "execution_count": null,
   "metadata": {},
   "outputs": [],
   "source": []
  }
 ],
 "metadata": {
  "accelerator": "GPU",
  "colab": {
   "collapsed_sections": [],
   "name": "DL4D_17_Reinforcement_Learning.ipynb",
   "provenance": [],
   "version": "0.3.2"
  },
  "kernelspec": {
   "display_name": "Python 3",
   "language": "python",
   "name": "python3"
  },
  "language_info": {
   "codemirror_mode": {
    "name": "ipython",
    "version": 3
   },
   "file_extension": ".py",
   "mimetype": "text/x-python",
   "name": "python",
   "nbconvert_exporter": "python",
   "pygments_lexer": "ipython3",
   "version": "3.8.6"
  }
 },
 "nbformat": 4,
 "nbformat_minor": 4
}
