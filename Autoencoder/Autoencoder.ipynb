{
 "cells": [
  {
   "cell_type": "markdown",
   "metadata": {},
   "source": [
    "### Hector Daniel Juarez Leonel\n",
    "# Autoencoder\n",
    "Siguiendo con la reducción de dimensión, los autoencoders sirven para reducir la dimensión de un conjunto de datos, pero tambien tiene otros usos y beneficios, como el quitar ruido en las imágenes o el generar de manera artificial muestras de datos en combinación con otros métodos. \n",
    "\n",
    "Los autoencoders están basados en redes neuronales, por lo que es importante el entendimiento de estas.\n",
    "\n",
    "De manera sencilla, un autoencoder se puede ver como la concatenación de 2 redes neuronales. La primera red, dado un vector de entrada de tamaño N, da una salida de un vector de tamaño M. La segunda red, dado un vector de tamaño M, da una salida de tamaño N. Con esto, al concatenar las 2 redes y entrenando la red, se busca que la salida sea igual a la entrada.\n",
    "\n",
    "A continuación se muestra un ejemplo que utiliza CNN para crear un Autoencoder utilizando como datos de entrenamiento el dataset de dígitos escritos a mano de MINST"
   ]
  },
  {
   "cell_type": "markdown",
   "metadata": {},
   "source": [
    "# MINST Convolutional Autoencoder\n",
    "\n",
    "En este ejemplo se utiliza la libreria de keras para la creación y entrenamiento de la red neuronal"
   ]
  },
  {
   "cell_type": "code",
   "execution_count": 1,
   "metadata": {},
   "outputs": [],
   "source": [
    "#El siguiente código es una configuración que debo de poner para que pueda usar\n",
    "#mi gpu en mi computadora.\n",
    "import tensorflow as tf2\n",
    "gpus = tf2.config.experimental.list_physical_devices('GPU')\n",
    "tf2.config.experimental.set_memory_growth(gpus[0], True)"
   ]
  },
  {
   "cell_type": "code",
   "execution_count": 2,
   "metadata": {},
   "outputs": [],
   "source": [
    "#Importación de librerias para la creación de la red y tratamiento de datos\n",
    "import pickle\n",
    "import numpy as np\n",
    "import matplotlib.pyplot as plt\n",
    "from keras.models import Model\n",
    "from keras.losses import MeanSquaredError\n",
    "from keras.layers import Input, Conv2D, Conv2DTranspose, MaxPooling2D, UpSampling2D"
   ]
  },
  {
   "cell_type": "markdown",
   "metadata": {},
   "source": [
    "A continuación, se cargan los datos"
   ]
  },
  {
   "cell_type": "code",
   "execution_count": 3,
   "metadata": {},
   "outputs": [],
   "source": [
    "with open('../data/mnist.pkl', 'rb') as f:\n",
    "    images = pickle.load(f)['images']"
   ]
  },
  {
   "cell_type": "markdown",
   "metadata": {},
   "source": [
    "Ya que las imágenes tienen valores de 0-255, se hace un reescalado para que sus valores estén entre 0-1"
   ]
  },
  {
   "cell_type": "code",
   "execution_count": 4,
   "metadata": {},
   "outputs": [],
   "source": [
    "images = images / 255."
   ]
  },
  {
   "cell_type": "markdown",
   "metadata": {},
   "source": [
    "En otros ejemplos, el autor tenia que hacer un cambio de forma para poder introducir las imágenes como un solo vector de entrada, en el caso de redes convolucionales esto no es necesario pues trabaja con matrices como valores de entrada, sin embargo, al ser las imágenes de 28x28 por la forma en la que trabaja la red, requiere saber la profundidad de la imágen por lo que se hace un cambio de forma a 28x28x1"
   ]
  },
  {
   "cell_type": "code",
   "execution_count": 5,
   "metadata": {},
   "outputs": [],
   "source": [
    "images = images.reshape((-1, 28, 28, 1))"
   ]
  },
  {
   "cell_type": "markdown",
   "metadata": {},
   "source": [
    "Define la capa de entrada la cual tiene la misma forma que las imágenes"
   ]
  },
  {
   "cell_type": "code",
   "execution_count": 6,
   "metadata": {},
   "outputs": [],
   "source": [
    "input_layer = Input(shape=(28, 28, 1,))"
   ]
  },
  {
   "cell_type": "markdown",
   "metadata": {},
   "source": [
    "Añade una capa convolucional con 16 filtros de tamaño 3x3 y función de activación ReLu"
   ]
  },
  {
   "cell_type": "code",
   "execution_count": 7,
   "metadata": {},
   "outputs": [],
   "source": [
    "hidden_encoding = Conv2D(\n",
    "    16,\n",
    "    (3, 3),\n",
    "    activation='relu',\n",
    "    padding='same', # La salida tiene el mismo tamaño que la entrada\n",
    ")(input_layer)"
   ]
  },
  {
   "cell_type": "markdown",
   "metadata": {},
   "source": [
    "Añade una capa de max pooling de tamaño 2x2"
   ]
  },
  {
   "cell_type": "code",
   "execution_count": 8,
   "metadata": {},
   "outputs": [],
   "source": [
    "encoded = MaxPooling2D((2, 2))(hidden_encoding)"
   ]
  },
  {
   "cell_type": "markdown",
   "metadata": {},
   "source": [
    "Con la capa anterior terminaria la parte de codificación, a continuación viene la parte de decodificación, comenzando con una capa convolucional"
   ]
  },
  {
   "cell_type": "code",
   "execution_count": 9,
   "metadata": {},
   "outputs": [],
   "source": [
    "hidden_decoding = Conv2D(\n",
    "    16, \n",
    "    (3, 3), \n",
    "    activation='relu',\n",
    "    padding='same', \n",
    ")(encoded)"
   ]
  },
  {
   "cell_type": "markdown",
   "metadata": {},
   "source": [
    "Ahora, añade una capa de sobremuestreo, esta repite los valores segun el tamaño dado"
   ]
  },
  {
   "cell_type": "code",
   "execution_count": 10,
   "metadata": {},
   "outputs": [],
   "source": [
    "upsample_decoding = UpSampling2D((2, 2))(hidden_decoding)"
   ]
  },
  {
   "cell_type": "markdown",
   "metadata": {},
   "source": [
    "Finalmente, añade una ultima capa de convolución, usando un solo filtro que coincide con la profundidad de la imágen original. Un dato interesante es que en la decodificación utiliza la función sigmoide, al contrario de la ReLu utilizada en la codificación."
   ]
  },
  {
   "cell_type": "code",
   "execution_count": 11,
   "metadata": {},
   "outputs": [],
   "source": [
    "decoded = Conv2D(\n",
    "    8, \n",
    "    (3, 3),\n",
    "    activation='sigmoid',\n",
    "    padding='same',\n",
    ")(upsample_decoding)"
   ]
  },
  {
   "cell_type": "markdown",
   "metadata": {},
   "source": [
    "Intrucción para construir la red."
   ]
  },
  {
   "cell_type": "code",
   "execution_count": 12,
   "metadata": {},
   "outputs": [],
   "source": [
    "autoencoder = Model(input_layer, decoded)"
   ]
  },
  {
   "cell_type": "markdown",
   "metadata": {},
   "source": [
    "A continuación muestra la estructura de la red"
   ]
  },
  {
   "cell_type": "code",
   "execution_count": 13,
   "metadata": {},
   "outputs": [
    {
     "name": "stdout",
     "output_type": "stream",
     "text": [
      "Model: \"functional_1\"\n",
      "_________________________________________________________________\n",
      "Layer (type)                 Output Shape              Param #   \n",
      "=================================================================\n",
      "input_1 (InputLayer)         [(None, 28, 28, 1)]       0         \n",
      "_________________________________________________________________\n",
      "conv2d (Conv2D)              (None, 28, 28, 16)        160       \n",
      "_________________________________________________________________\n",
      "max_pooling2d (MaxPooling2D) (None, 14, 14, 16)        0         \n",
      "_________________________________________________________________\n",
      "conv2d_1 (Conv2D)            (None, 14, 14, 16)        2320      \n",
      "_________________________________________________________________\n",
      "up_sampling2d (UpSampling2D) (None, 28, 28, 16)        0         \n",
      "_________________________________________________________________\n",
      "conv2d_2 (Conv2D)            (None, 28, 28, 1)         145       \n",
      "=================================================================\n",
      "Total params: 2,625\n",
      "Trainable params: 2,625\n",
      "Non-trainable params: 0\n",
      "_________________________________________________________________\n"
     ]
    }
   ],
   "source": [
    "autoencoder.summary()"
   ]
  },
  {
   "cell_type": "markdown",
   "metadata": {},
   "source": [
    "Compila la red y establece el valor de pérdida y el tipo de optimizador."
   ]
  },
  {
   "cell_type": "code",
   "execution_count": 14,
   "metadata": {},
   "outputs": [],
   "source": [
    "#El código del libro utilizaba como optimizador adadelta\n",
    "autoencoder.compile(optimizer='adam', loss=\"binary_crossentropy\")"
   ]
  },
  {
   "cell_type": "markdown",
   "metadata": {},
   "source": [
    "Ahora, realiza el entrenamiento de la red"
   ]
  },
  {
   "cell_type": "code",
   "execution_count": 15,
   "metadata": {},
   "outputs": [
    {
     "name": "stdout",
     "output_type": "stream",
     "text": [
      "Epoch 1/20\n",
      "313/313 [==============================] - 1s 3ms/step - loss: 0.1560\n",
      "Epoch 2/20\n",
      "313/313 [==============================] - 1s 3ms/step - loss: 0.0702\n",
      "Epoch 3/20\n",
      "313/313 [==============================] - 1s 4ms/step - loss: 0.0674\n",
      "Epoch 4/20\n",
      "313/313 [==============================] - 1s 2ms/step - loss: 0.0660\n",
      "Epoch 5/20\n",
      "313/313 [==============================] - 1s 3ms/step - loss: 0.0652\n",
      "Epoch 6/20\n",
      "313/313 [==============================] - 1s 3ms/step - loss: 0.0647\n",
      "Epoch 7/20\n",
      "313/313 [==============================] - 1s 2ms/step - loss: 0.0643\n",
      "Epoch 8/20\n",
      "313/313 [==============================] - 1s 2ms/step - loss: 0.0641\n",
      "Epoch 9/20\n",
      "313/313 [==============================] - 1s 2ms/step - loss: 0.0638\n",
      "Epoch 10/20\n",
      "313/313 [==============================] - 1s 2ms/step - loss: 0.0636\n",
      "Epoch 11/20\n",
      "313/313 [==============================] - 1s 2ms/step - loss: 0.0635\n",
      "Epoch 12/20\n",
      "313/313 [==============================] - 1s 2ms/step - loss: 0.0633\n",
      "Epoch 13/20\n",
      "313/313 [==============================] - 1s 2ms/step - loss: 0.0632\n",
      "Epoch 14/20\n",
      "313/313 [==============================] - 1s 2ms/step - loss: 0.0630\n",
      "Epoch 15/20\n",
      "313/313 [==============================] - 1s 2ms/step - loss: 0.0630\n",
      "Epoch 16/20\n",
      "313/313 [==============================] - 1s 2ms/step - loss: 0.0628\n",
      "Epoch 17/20\n",
      "313/313 [==============================] - 1s 2ms/step - loss: 0.0627\n",
      "Epoch 18/20\n",
      "313/313 [==============================] - 1s 2ms/step - loss: 0.0627\n",
      "Epoch 19/20\n",
      "313/313 [==============================] - 1s 2ms/step - loss: 0.0626A: 0s -\n",
      "Epoch 20/20\n",
      "313/313 [==============================] - 1s 2ms/step - loss: 0.0625\n"
     ]
    },
    {
     "data": {
      "text/plain": [
       "<tensorflow.python.keras.callbacks.History at 0x204c299ceb0>"
      ]
     },
     "execution_count": 15,
     "metadata": {},
     "output_type": "execute_result"
    }
   ],
   "source": [
    "autoencoder.fit(images, images, epochs=20)"
   ]
  },
  {
   "cell_type": "markdown",
   "metadata": {},
   "source": [
    "Utilizando solo las capas de codificación, calcula la salida para las primeras 5 imágenes, es decir, las codifica"
   ]
  },
  {
   "cell_type": "code",
   "execution_count": 16,
   "metadata": {},
   "outputs": [],
   "source": [
    "encoder_output = Model(input_layer, encoded).predict(images[:5])"
   ]
  },
  {
   "cell_type": "markdown",
   "metadata": {},
   "source": [
    "Cambia la forma de la salida del codificador para poder visualizarla."
   ]
  },
  {
   "cell_type": "code",
   "execution_count": 17,
   "metadata": {},
   "outputs": [],
   "source": [
    "encoder_output = encoder_output.reshape((-1, 14 * 14, 16))"
   ]
  },
  {
   "cell_type": "markdown",
   "metadata": {},
   "source": [
    "Ahora, calcula la salida del decodificador utilizando el autoencoder y las mismas 5 imágenes"
   ]
  },
  {
   "cell_type": "code",
   "execution_count": 18,
   "metadata": {},
   "outputs": [],
   "source": [
    "decoder_output = autoencoder.predict(images[:5])"
   ]
  },
  {
   "cell_type": "markdown",
   "metadata": {},
   "source": [
    "Cambia la forma de la salida para que corresponda con 28x28"
   ]
  },
  {
   "cell_type": "code",
   "execution_count": 19,
   "metadata": {},
   "outputs": [],
   "source": [
    "decoder_output = decoder_output.reshape((-1, 28, 28))"
   ]
  },
  {
   "cell_type": "markdown",
   "metadata": {},
   "source": [
    "Recordando los pasos previos, se cambió la forma de \"images\" a 28x28x1, para poder mostrarla con matplotlib es necesario regresarla a su forma original de 28x28"
   ]
  },
  {
   "cell_type": "code",
   "execution_count": 20,
   "metadata": {},
   "outputs": [],
   "source": [
    "images = images.reshape((-1, 28, 28))"
   ]
  },
  {
   "cell_type": "markdown",
   "metadata": {},
   "source": [
    "A continuación se muestran las imágenes antes de codificarlas, despues de codificarlas y despues de decodificarlas."
   ]
  },
  {
   "cell_type": "code",
   "execution_count": 21,
   "metadata": {},
   "outputs": [
    {
     "data": {
      "image/png": "[encoded data removed]",
      "text/plain": [
       "<Figure size 720x504 with 15 Axes>"
      ]
     },
     "metadata": {
      "needs_background": "light"
     },
     "output_type": "display_data"
    }
   ],
   "source": [
    "plt.figure(figsize=(10, 7))\n",
    "for i in range(5):\n",
    "    plt.subplot(3, 5, i + 1)\n",
    "    plt.imshow(images[i], cmap='gray')\n",
    "    plt.axis('off')\n",
    "    \n",
    "    plt.subplot(3, 5, i + 6)\n",
    "    plt.imshow(encoder_output[i], cmap='gray')\n",
    "    plt.axis('off')   \n",
    "    \n",
    "    plt.subplot(3, 5, i + 11)\n",
    "    plt.imshow(decoder_output[i], cmap='gray')\n",
    "    plt.axis('off')        "
   ]
  },
  {
   "cell_type": "markdown",
   "metadata": {},
   "source": [
    "# Conclusión\n",
    "\n",
    "Al ejecutar el código del libro, el resultado era muy malo, se veia de la siguiente forma\n",
    "\n",
    "<img src='malOptimizado.JPG' width=600 height=400>\n",
    "\n",
    "Y la primera solución que encontré fue cambiar el tamaño del batch, ya que en el notebook original se veia que por defecto utilizaba un batch_size=1 pero al ejecutarlo yo, tomaba un valor más grande, sin embargo, al investigar un poco del tema, encontré que cambiando el optimizador podria mejorar y efectivamente así fue, el anterior optimizador era  una variante de gradiente descendente con el ratio de aprendizaje dinámico, al cambiarlo por el optimizador \"adam\" el cual tambien está basado en gradiente descendente con aprendizaje ratio de aprendizaje variable, pero que ocupa otros métodos para cambiar el ratio de aprendizaje, el resultado fue sorprendentemente mejor obteniendo un error mínimo.\n",
    "\n",
    "Sobre el algoritmo en si, es muy intuitivo el funcionamiento una vez que ya se conoce de redes neuronales, lo que se busca es crear una red cuya salida sea igual a la entrada, y despues se pueden usar las capas por separado para la parte de codificación y decodificación. Desconozco que tan \"seguro\" podria ser el codificar un mensaje de esta forma, pero para usos como reudcción de ruido o de dimensión me parece una buena técnica.\n",
    "\n",
    "Con respecto a la eficiencia, utilizando un optimizador correcto y con el uso de una gpu que permite el procesamiento en paralelo de tensorflow, es bastante rápido de entrenar."
   ]
  },
  {
   "cell_type": "code",
   "execution_count": null,
   "metadata": {},
   "outputs": [],
   "source": []
  }
 ],
 "metadata": {
  "kernelspec": {
   "display_name": "Python 3",
   "language": "python",
   "name": "python3"
  },
  "language_info": {
   "codemirror_mode": {
    "name": "ipython",
    "version": 3
   },
   "file_extension": ".py",
   "mimetype": "text/x-python",
   "name": "python",
   "nbconvert_exporter": "python",
   "pygments_lexer": "ipython3",
   "version": "3.8.6"
  }
 },
 "nbformat": 4,
 "nbformat_minor": 4
}
